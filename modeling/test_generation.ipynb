{
 "cells": [
  {
   "cell_type": "code",
   "execution_count": 2,
   "id": "a2834eba-c302-40a6-bb47-fe945ee621cf",
   "metadata": {},
   "outputs": [],
   "source": [
    "import torch\n",
    "from transformers import T5Config, T5Tokenizer, T5ForConditionalGeneration"
   ]
  },
  {
   "cell_type": "code",
   "execution_count": 3,
   "id": "3a07c136-dcca-41c4-8ab9-b78bc6c0a533",
   "metadata": {},
   "outputs": [
    {
     "data": {
      "application/vnd.jupyter.widget-view+json": {
       "model_id": "71953dc324b344459bf444a37ab7c420",
       "version_major": 2,
       "version_minor": 0
      },
      "text/plain": [
       "Downloading:   0%|          | 0.00/725k [00:00<?, ?B/s]"
      ]
     },
     "metadata": {},
     "output_type": "display_data"
    },
    {
     "data": {
      "application/vnd.jupyter.widget-view+json": {
       "model_id": "407ce6c60d2b49ad9c3798ec95cb40b0",
       "version_major": 2,
       "version_minor": 0
      },
      "text/plain": [
       "Downloading:   0%|          | 0.00/659 [00:00<?, ?B/s]"
      ]
     },
     "metadata": {},
     "output_type": "display_data"
    }
   ],
   "source": [
    "t5_config = T5Config(\n",
    "    vocab_size=32128,\n",
    "    d_model=768,\n",
    "    d_kv=64,\n",
    "    d_ff=2048,\n",
    "    num_layers=12,\n",
    "    num_decoder_layers=12,\n",
    "    num_heads=12,\n",
    "    relative_attention_num_buckets=32,\n",
    "    dropout_rate=0.1,\n",
    "    layer_norm_epsilon=1e-6,\n",
    "    initializer_factor=1.0,\n",
    "    feed_forward_proj=\"gated-gelu\",\n",
    "    is_encoder_decoder=True,\n",
    "    use_cache=True,\n",
    "    pad_token_id=0,\n",
    "    eos_token_id=1,\n",
    "    decoder_start_token_id=0,\n",
    "    tie_word_embeddings=False,\n",
    "    torch_dtype=\"float32\",\n",
    "    gradient_checkpointing=False)\n",
    "model = T5ForConditionalGeneration(t5_config)\n",
    "tokenizer = T5Tokenizer.from_pretrained(\"Langboat/mengzi-t5-base\")"
   ]
  },
  {
   "cell_type": "code",
   "execution_count": 9,
   "id": "656ab008-d120-4e3b-b68e-dd20881c0413",
   "metadata": {},
   "outputs": [
    {
     "data": {
      "text/plain": [
       "<All keys matched successfully>"
      ]
     },
     "execution_count": 9,
     "metadata": {},
     "output_type": "execute_result"
    }
   ],
   "source": [
    "model.load_state_dict(torch.load(\"../serving/trained_model/20220327_kaggle/pytorch_model.bin\", map_location=torch.device('cpu')))"
   ]
  },
  {
   "cell_type": "code",
   "execution_count": 11,
   "id": "1c72b400-4f19-4303-b772-29b1b5a627dc",
   "metadata": {},
   "outputs": [],
   "source": [
    "model.save_pretrained(\"../serving/trained_model/GuwenNet\")"
   ]
  },
  {
   "cell_type": "code",
   "execution_count": 5,
   "id": "5ea752b1-2bb1-4688-8f1f-f5d3ffe8c1c3",
   "metadata": {},
   "outputs": [],
   "source": [
    "def generate_classic(text):\n",
    "    input_ids = tokenizer(\"转古文：\" + text, return_tensors=\"pt\").input_ids\n",
    "    outputs = model.generate(input_ids, max_length=100)\n",
    "    return tokenizer.batch_decode(outputs, skip_special_tokens=True)\n",
    "\n",
    "def generate_modern(text):\n",
    "    input_ids = tokenizer(\"转现代文：\" + text, return_tensors=\"pt\").input_ids\n",
    "    outputs = model.generate(input_ids, max_length=100)\n",
    "    return tokenizer.batch_decode(outputs, skip_special_tokens=True)"
   ]
  },
  {
   "cell_type": "code",
   "execution_count": 10,
   "id": "1887cb68-21d5-4da6-a562-702fa4755942",
   "metadata": {},
   "outputs": [
    {
     "data": {
      "text/plain": [
       "['先帝创业未半而中道,今天下为三国,蜀汉民困,此实危存之时也。']"
      ]
     },
     "execution_count": 10,
     "metadata": {},
     "output_type": "execute_result"
    }
   ],
   "source": [
    "generate_classic(\"先帝开创的事业没有完成一半，却中途去世了。现在天下分裂成三个国家。蜀汉民力困乏，这实在是危急存亡的时候啊。\")"
   ]
  },
  {
   "cell_type": "code",
   "execution_count": 8,
   "id": "6dfcf0a5-75aa-4d1f-bacc-6b8840680ae8",
   "metadata": {},
   "outputs": [
    {
     "data": {
      "text/plain": [
       "['其身甚。']"
      ]
     },
     "execution_count": 8,
     "metadata": {},
     "output_type": "execute_result"
    }
   ],
   "source": [
    "generate_classic(\"我们今天一起吃饭\")"
   ]
  },
  {
   "cell_type": "code",
   "execution_count": 15,
   "id": "dae409e8-5f73-43ae-99e6-ffd8b85e48ea",
   "metadata": {},
   "outputs": [
    {
     "data": {
      "text/plain": [
       "['先帝创业不到一半,中途中途就崩殂,现在下边三分,冀州疲弱,这是危急存亡的秋日。']"
      ]
     },
     "execution_count": 15,
     "metadata": {},
     "output_type": "execute_result"
    }
   ],
   "source": [
    "generate_modern(\"先帝创业未半而中道崩殂。今天下三分，冀州疲敝，此乃危急存亡之秋\")"
   ]
  },
  {
   "cell_type": "code",
   "execution_count": null,
   "id": "f326816b-7a6b-4e77-bfcf-7b2e947dce6a",
   "metadata": {},
   "outputs": [],
   "source": []
  }
 ],
 "metadata": {
  "kernelspec": {
   "display_name": "Python 3",
   "language": "python",
   "name": "python3"
  },
  "language_info": {
   "codemirror_mode": {
    "name": "ipython",
    "version": 3
   },
   "file_extension": ".py",
   "mimetype": "text/x-python",
   "name": "python",
   "nbconvert_exporter": "python",
   "pygments_lexer": "ipython3",
   "version": "3.6.9"
  }
 },
 "nbformat": 4,
 "nbformat_minor": 5
}
