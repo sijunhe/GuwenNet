{
 "cells": [
  {
   "cell_type": "code",
   "execution_count": 1,
   "id": "fadff4ac-63cb-4103-9026-e465119a77e5",
   "metadata": {},
   "outputs": [],
   "source": [
    "import torch, gc\n",
    "import onnxruntime\n",
    "from fastT5 import export_and_get_onnx_model\n",
    "from transformers import T5Config, T5Tokenizer, T5ForConditionalGeneration\n",
    "from fastT5 import (OnnxT5, get_onnx_runtime_sessions,\n",
    "                    generate_onnx_representation, quantize)"
   ]
  },
  {
   "cell_type": "markdown",
   "id": "7d53594f-1587-4b65-b892-6047f912dd3a",
   "metadata": {},
   "source": [
    "# Pytorch baseline"
   ]
  },
  {
   "cell_type": "code",
   "execution_count": 2,
   "id": "ffc72d82-49fe-49be-b476-9cb3522801a2",
   "metadata": {},
   "outputs": [],
   "source": [
    "tokenizer = T5Tokenizer.from_pretrained(\"Langboat/mengzi-t5-base\")\n",
    "model = T5ForConditionalGeneration.from_pretrained(\"../serving/trained_model/GuwenNet\")"
   ]
  },
  {
   "cell_type": "code",
   "execution_count": 3,
   "id": "b5986b51-9557-4100-8e68-d6e60dae212f",
   "metadata": {},
   "outputs": [],
   "source": [
    "def run_model(model):\n",
    "    t_input = \"先帝开创的事业没有完成一半，却中途去世了。现在天下分裂成三个国家。蜀汉民力困乏，这实在是危急存亡的时候啊。\"\n",
    "    token = tokenizer(t_input, return_tensors='pt')\n",
    "\n",
    "    tokens = model.generate(input_ids=token['input_ids'],\n",
    "                   attention_mask=token['attention_mask'],\n",
    "                           max_length=100)\n",
    "    output = tokenizer.decode(tokens.squeeze(), skip_special_tokens=True)\n",
    "    return output"
   ]
  },
  {
   "cell_type": "code",
   "execution_count": 4,
   "id": "cfa56524-d4dc-4fb5-b3cf-9de31e994c55",
   "metadata": {},
   "outputs": [
    {
     "name": "stdout",
     "output_type": "stream",
     "text": [
      "1.82 s ± 31.2 ms per loop (mean ± std. dev. of 10 runs, 1 loop each)\n"
     ]
    }
   ],
   "source": [
    "%timeit -r 10 run_model(model)"
   ]
  },
  {
   "cell_type": "code",
   "execution_count": 5,
   "id": "9ba7c282-828d-4d3f-8580-faa5ee677431",
   "metadata": {},
   "outputs": [
    {
     "data": {
      "text/plain": [
       "9"
      ]
     },
     "execution_count": 5,
     "metadata": {},
     "output_type": "execute_result"
    }
   ],
   "source": [
    "del model\n",
    "gc.collect()"
   ]
  },
  {
   "cell_type": "markdown",
   "id": "5aebe9cb-d718-4ce0-a946-b61b3d6a79c6",
   "metadata": {},
   "source": [
    "# ONNX model "
   ]
  },
  {
   "cell_type": "code",
   "execution_count": 6,
   "id": "9f78a66f-cfd2-4e93-857a-54309894920a",
   "metadata": {},
   "outputs": [
    {
     "name": "stderr",
     "output_type": "stream",
     "text": [
      "Exporting to onnx... |################################| 3/3\n",
      "\u001b[?25h"
     ]
    }
   ],
   "source": [
    "model_or_model_path = '../serving/trained_model/GuwenNet'\n",
    "\n",
    "# Step 1. convert huggingfaces t5 model to onnx\n",
    "onnx_model_paths = generate_onnx_representation(model_or_model_path)\n",
    "model_sessions = get_onnx_runtime_sessions(onnx_model_paths)\n",
    "model = OnnxT5(model_or_model_path, model_sessions)"
   ]
  },
  {
   "cell_type": "code",
   "execution_count": 7,
   "id": "a00bf6a5-cdf8-4dbe-ab41-7a029d9e6b58",
   "metadata": {},
   "outputs": [
    {
     "name": "stdout",
     "output_type": "stream",
     "text": [
      "1.15 s ± 47.5 ms per loop (mean ± std. dev. of 50 runs, 1 loop each)\n"
     ]
    }
   ],
   "source": [
    "%timeit -r 50 run_model(model)"
   ]
  },
  {
   "cell_type": "code",
   "execution_count": 8,
   "id": "a2a9ab3a-0d01-4b4c-b85d-4e0ddec6a3ae",
   "metadata": {},
   "outputs": [
    {
     "data": {
      "text/plain": [
       "0"
      ]
     },
     "execution_count": 8,
     "metadata": {},
     "output_type": "execute_result"
    }
   ],
   "source": [
    "del model\n",
    "gc.collect()"
   ]
  },
  {
   "cell_type": "markdown",
   "id": "38d1b79b-fd3e-482a-864f-b34558159819",
   "metadata": {},
   "source": [
    "# ONNX quantized"
   ]
  },
  {
   "cell_type": "code",
   "execution_count": 9,
   "id": "72984a8b-bdba-4a81-af58-66f9776e9565",
   "metadata": {},
   "outputs": [
    {
     "name": "stderr",
     "output_type": "stream",
     "text": [
      "Quantizing... |################################| 3/3\n",
      "\u001b[?25h"
     ]
    }
   ],
   "source": [
    "# Step 2. (recommended) quantize the converted model for fast inference and to reduce model size.\n",
    "quant_model_paths = quantize(onnx_model_paths)\n",
    "\n",
    "# step 3. setup onnx runtime\n",
    "model_sessions = get_onnx_runtime_sessions(quant_model_paths)\n",
    "\n",
    "# step 4. get the onnx model\n",
    "model = OnnxT5(model_or_model_path, model_sessions)"
   ]
  },
  {
   "cell_type": "code",
   "execution_count": 10,
   "id": "245c95bc-3d1d-4f53-aaa1-a33cba4ff49f",
   "metadata": {},
   "outputs": [
    {
     "name": "stdout",
     "output_type": "stream",
     "text": [
      "687 ms ± 42.7 ms per loop (mean ± std. dev. of 50 runs, 1 loop each)\n"
     ]
    }
   ],
   "source": [
    "%timeit -r 50 run_model(model)"
   ]
  },
  {
   "cell_type": "code",
   "execution_count": null,
   "id": "42f64678-ac55-4493-a4b3-a3637b7fd5ec",
   "metadata": {},
   "outputs": [],
   "source": []
  }
 ],
 "metadata": {
  "kernelspec": {
   "display_name": "Python 3",
   "language": "python",
   "name": "python3"
  },
  "language_info": {
   "codemirror_mode": {
    "name": "ipython",
    "version": 3
   },
   "file_extension": ".py",
   "mimetype": "text/x-python",
   "name": "python",
   "nbconvert_exporter": "python",
   "pygments_lexer": "ipython3",
   "version": "3.6.9"
  }
 },
 "nbformat": 4,
 "nbformat_minor": 5
}
