{
 "cells": [
  {
   "cell_type": "code",
   "execution_count": 1,
   "id": "a1816fb6-c99c-4be7-b0ff-04c08271d518",
   "metadata": {},
   "outputs": [],
   "source": [
    "import torch\n",
    "import onnxruntime\n",
    "from fastT5 import export_and_get_onnx_model\n",
    "from transformers import T5Config, T5Tokenizer, T5ForConditionalGeneration"
   ]
  },
  {
   "cell_type": "code",
   "execution_count": 3,
   "id": "5212caa7-d163-4163-b887-526b3031e1a2",
   "metadata": {},
   "outputs": [],
   "source": [
    "t5_config = T5Config(\n",
    "    vocab_size=32128,\n",
    "    d_model=768,\n",
    "    d_kv=64,\n",
    "    d_ff=2048,\n",
    "    num_layers=12,\n",
    "    num_decoder_layers=12,\n",
    "    num_heads=12,\n",
    "    relative_attention_num_buckets=32,\n",
    "    dropout_rate=0.1,\n",
    "    layer_norm_epsilon=1e-6,\n",
    "    initializer_factor=1.0,\n",
    "    feed_forward_proj=\"gated-gelu\",\n",
    "    is_encoder_decoder=True,\n",
    "    use_cache=True,\n",
    "    pad_token_id=0,\n",
    "    eos_token_id=1,\n",
    "    decoder_start_token_id=0,\n",
    "    tie_word_embeddings=False,\n",
    "    torch_dtype=\"float32\",\n",
    "    gradient_checkpointing=False)\n",
    "model = T5ForConditionalGeneration(t5_config)\n",
    "tokenizer = T5Tokenizer.from_pretrained(\"Langboat/mengzi-t5-base\")\n",
    "model.load_state_dict(torch.load(\"../serving/trained_model/20220327_kaggle/pytorch_model.bin\", map_location=torch.device('cpu')))\n",
    "model.save_pretrained(\"../serving/trained_model/GuwenNet\")"
   ]
  },
  {
   "cell_type": "code",
   "execution_count": 4,
   "id": "1ae59981-f949-416b-b1e1-ca6613c8f8f6",
   "metadata": {},
   "outputs": [
    {
     "name": "stderr",
     "output_type": "stream",
     "text": [
      "Exporting to onnx... |################################| 3/3\n",
      "\u001b[?25h"
     ]
    }
   ],
   "source": [
    "from fastT5 import (OnnxT5, get_onnx_runtime_sessions,\n",
    "                    generate_onnx_representation, quantize)\n",
    "\n",
    "\n",
    "model_or_model_path = '../serving/trained_model/GuwenNet'\n",
    "\n",
    "# Step 1. convert huggingfaces t5 model to onnx\n",
    "onnx_model_paths = generate_onnx_representation(model_or_model_path)"
   ]
  },
  {
   "cell_type": "code",
   "execution_count": 1,
   "id": "1568ebc3-4feb-46ff-bfd5-b04ea0c028b8",
   "metadata": {},
   "outputs": [
    {
     "ename": "NameError",
     "evalue": "name 'onnx_model_paths' is not defined",
     "output_type": "error",
     "traceback": [
      "\u001b[0;31m---------------------------------------------------------------------------\u001b[0m",
      "\u001b[0;31mNameError\u001b[0m                                 Traceback (most recent call last)",
      "\u001b[0;32m<ipython-input-1-379062826948>\u001b[0m in \u001b[0;36m<module>\u001b[0;34m\u001b[0m\n\u001b[0;32m----> 1\u001b[0;31m \u001b[0monnx_model_paths\u001b[0m\u001b[0;34m\u001b[0m\u001b[0;34m\u001b[0m\u001b[0m\n\u001b[0m",
      "\u001b[0;31mNameError\u001b[0m: name 'onnx_model_paths' is not defined"
     ]
    }
   ],
   "source": [
    "onnx_model_paths"
   ]
  },
  {
   "cell_type": "code",
   "execution_count": 5,
   "id": "e94a96da-e85e-4a52-a90a-141ca38a40db",
   "metadata": {},
   "outputs": [],
   "source": [
    "model_sessions = get_onnx_runtime_sessions(onnx_model_paths)\n",
    "model = OnnxT5(model_or_model_path, model_sessions)"
   ]
  },
  {
   "cell_type": "code",
   "execution_count": null,
   "id": "8498b0d8-5e63-43c3-b292-285559836e1f",
   "metadata": {},
   "outputs": [],
   "source": [
    "def run_onnx_model(model):\n",
    "    t_input = \"先帝开创的事业没有完成一半，却中途去世了。现在天下分裂成三个国家。蜀汉民力困乏，这实在是危急存亡的时候啊。\"\n",
    "    token = tokenizer(t_input, return_tensors='pt')\n",
    "\n",
    "    tokens = model.generate(input_ids=token['input_ids'],\n",
    "                   attention_mask=token['attention_mask'],\n",
    "                           max_length=100)\n",
    "    output = tokenizer.decode(tokens.squeeze(), skip_special_tokens=True)\n",
    "    return output"
   ]
  },
  {
   "cell_type": "code",
   "execution_count": 9,
   "id": "acd24f6f-c457-4932-b317-59334d5be123",
   "metadata": {},
   "outputs": [],
   "source": []
  },
  {
   "cell_type": "code",
   "execution_count": 10,
   "id": "c4943d70-ab80-4eb8-94fc-e2dae8475d60",
   "metadata": {},
   "outputs": [
    {
     "data": {
      "text/plain": [
       "'先帝创业未尽,而中道卒,今天下分裂为三国,蜀汉困乏,此诚危亡之时也。'"
      ]
     },
     "execution_count": 10,
     "metadata": {},
     "output_type": "execute_result"
    }
   ],
   "source": [
    "output"
   ]
  },
  {
   "cell_type": "code",
   "execution_count": null,
   "id": "f6fc287e-e030-4937-bae2-8b65366268da",
   "metadata": {},
   "outputs": [],
   "source": [
    "# Step 2. (recommended) quantize the converted model for fast inference and to reduce model size.\n",
    "quant_model_paths = quantize(onnx_model_paths)\n",
    "\n",
    "# step 3. setup onnx runtime\n",
    "model_sessions = get_onnx_runtime_sessions(quant_model_paths)\n",
    "\n",
    "# step 4. get the onnx model\n",
    "model = OnnxT5(model_or_model_path, model_sessions)"
   ]
  }
 ],
 "metadata": {
  "kernelspec": {
   "display_name": "Python 3",
   "language": "python",
   "name": "python3"
  },
  "language_info": {
   "codemirror_mode": {
    "name": "ipython",
    "version": 3
   },
   "file_extension": ".py",
   "mimetype": "text/x-python",
   "name": "python",
   "nbconvert_exporter": "python",
   "pygments_lexer": "ipython3",
   "version": "3.6.9"
  }
 },
 "nbformat": 4,
 "nbformat_minor": 5
}
