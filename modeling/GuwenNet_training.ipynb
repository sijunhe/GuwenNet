{
 "cells": [
  {
   "cell_type": "code",
   "execution_count": 1,
   "id": "3dd09779",
   "metadata": {
    "execution": {
     "iopub.execute_input": "2022-03-26T16:12:50.917739Z",
     "iopub.status.busy": "2022-03-26T16:12:50.916792Z",
     "iopub.status.idle": "2022-03-26T16:13:20.085174Z",
     "shell.execute_reply": "2022-03-26T16:13:20.084601Z",
     "shell.execute_reply.started": "2022-03-20T10:24:19.666935Z"
    },
    "papermill": {
     "duration": 29.192182,
     "end_time": "2022-03-26T16:13:20.085322",
     "exception": false,
     "start_time": "2022-03-26T16:12:50.893140",
     "status": "completed"
    },
    "tags": []
   },
   "outputs": [
    {
     "name": "stdout",
     "output_type": "stream",
     "text": [
      "Cloning into 'Classical-Modern'...\r\n",
      "remote: Enumerating objects: 135, done.\u001b[K\r\n",
      "remote: Counting objects: 100% (135/135), done.\u001b[K\r\n",
      "remote: Compressing objects: 100% (123/123), done.\u001b[K\r\n",
      "remote: Total 135 (delta 54), reused 50 (delta 11), pack-reused 0\u001b[K\r\n",
      "Receiving objects: 100% (135/135), 114.05 MiB | 11.96 MiB/s, done.\r\n",
      "Resolving deltas: 100% (54/54), done.\r\n",
      "Updating files: 100% (83/83), done.\r\n"
     ]
    }
   ],
   "source": [
    "!git clone https://github.com/NiuTrans/Classical-Modern.git"
   ]
  },
  {
   "cell_type": "code",
   "execution_count": 2,
   "id": "d1a9932f",
   "metadata": {
    "execution": {
     "iopub.execute_input": "2022-03-26T16:13:20.213134Z",
     "iopub.status.busy": "2022-03-26T16:13:20.207986Z",
     "iopub.status.idle": "2022-03-26T16:13:31.141214Z",
     "shell.execute_reply": "2022-03-26T16:13:31.140698Z",
     "shell.execute_reply.started": "2022-03-20T10:24:47.652127Z"
    },
    "papermill": {
     "duration": 10.995324,
     "end_time": "2022-03-26T16:13:31.141346",
     "exception": false,
     "start_time": "2022-03-26T16:13:20.146022",
     "status": "completed"
    },
    "tags": []
   },
   "outputs": [
    {
     "name": "stdout",
     "output_type": "stream",
     "text": [
      "Collecting datasets\r\n",
      "  Downloading datasets-2.0.0-py3-none-any.whl (325 kB)\r\n",
      "     |████████████████████████████████| 325 kB 557 kB/s            \r\n",
      "\u001b[?25hRequirement already satisfied: dill in /opt/conda/lib/python3.7/site-packages (from datasets) (0.3.4)\r\n",
      "Requirement already satisfied: importlib-metadata in /opt/conda/lib/python3.7/site-packages (from datasets) (4.11.2)\r\n",
      "Requirement already satisfied: requests>=2.19.0 in /opt/conda/lib/python3.7/site-packages (from datasets) (2.26.0)\r\n",
      "Requirement already satisfied: numpy>=1.17 in /opt/conda/lib/python3.7/site-packages (from datasets) (1.20.3)\r\n",
      "Requirement already satisfied: pandas in /opt/conda/lib/python3.7/site-packages (from datasets) (1.3.5)\r\n",
      "Requirement already satisfied: tqdm>=4.62.1 in /opt/conda/lib/python3.7/site-packages (from datasets) (4.62.3)\r\n",
      "Requirement already satisfied: aiohttp in /opt/conda/lib/python3.7/site-packages (from datasets) (3.8.1)\r\n",
      "Collecting responses<0.19\r\n",
      "  Downloading responses-0.18.0-py3-none-any.whl (38 kB)\r\n",
      "Requirement already satisfied: fsspec[http]>=2021.05.0 in /opt/conda/lib/python3.7/site-packages (from datasets) (2022.2.0)\r\n",
      "Requirement already satisfied: pyarrow>=5.0.0 in /opt/conda/lib/python3.7/site-packages (from datasets) (6.0.1)\r\n",
      "Requirement already satisfied: huggingface-hub<1.0.0,>=0.1.0 in /opt/conda/lib/python3.7/site-packages (from datasets) (0.2.1)\r\n",
      "Requirement already satisfied: multiprocess in /opt/conda/lib/python3.7/site-packages (from datasets) (0.70.12.2)\r\n",
      "Requirement already satisfied: packaging in /opt/conda/lib/python3.7/site-packages (from datasets) (21.3)\r\n",
      "Collecting xxhash\r\n",
      "  Downloading xxhash-3.0.0-cp37-cp37m-manylinux_2_17_x86_64.manylinux2014_x86_64.whl (212 kB)\r\n",
      "     |████████████████████████████████| 212 kB 8.5 MB/s            \r\n",
      "\u001b[?25hRequirement already satisfied: pyyaml in /opt/conda/lib/python3.7/site-packages (from huggingface-hub<1.0.0,>=0.1.0->datasets) (6.0)\r\n",
      "Requirement already satisfied: filelock in /opt/conda/lib/python3.7/site-packages (from huggingface-hub<1.0.0,>=0.1.0->datasets) (3.4.2)\r\n",
      "Requirement already satisfied: typing-extensions>=3.7.4.3 in /opt/conda/lib/python3.7/site-packages (from huggingface-hub<1.0.0,>=0.1.0->datasets) (4.1.1)\r\n",
      "Requirement already satisfied: pyparsing!=3.0.5,>=2.0.2 in /opt/conda/lib/python3.7/site-packages (from packaging->datasets) (3.0.6)\r\n",
      "Requirement already satisfied: charset-normalizer~=2.0.0 in /opt/conda/lib/python3.7/site-packages (from requests>=2.19.0->datasets) (2.0.9)\r\n",
      "Requirement already satisfied: certifi>=2017.4.17 in /opt/conda/lib/python3.7/site-packages (from requests>=2.19.0->datasets) (2021.10.8)\r\n",
      "Requirement already satisfied: idna<4,>=2.5 in /opt/conda/lib/python3.7/site-packages (from requests>=2.19.0->datasets) (3.1)\r\n",
      "Requirement already satisfied: urllib3<1.27,>=1.21.1 in /opt/conda/lib/python3.7/site-packages (from requests>=2.19.0->datasets) (1.26.7)\r\n",
      "Requirement already satisfied: multidict<7.0,>=4.5 in /opt/conda/lib/python3.7/site-packages (from aiohttp->datasets) (5.2.0)\r\n",
      "Requirement already satisfied: aiosignal>=1.1.2 in /opt/conda/lib/python3.7/site-packages (from aiohttp->datasets) (1.2.0)\r\n",
      "Requirement already satisfied: attrs>=17.3.0 in /opt/conda/lib/python3.7/site-packages (from aiohttp->datasets) (21.2.0)\r\n",
      "Requirement already satisfied: frozenlist>=1.1.1 in /opt/conda/lib/python3.7/site-packages (from aiohttp->datasets) (1.2.0)\r\n",
      "Requirement already satisfied: async-timeout<5.0,>=4.0.0a3 in /opt/conda/lib/python3.7/site-packages (from aiohttp->datasets) (4.0.1)\r\n",
      "Requirement already satisfied: yarl<2.0,>=1.0 in /opt/conda/lib/python3.7/site-packages (from aiohttp->datasets) (1.7.2)\r\n",
      "Requirement already satisfied: asynctest==0.13.0 in /opt/conda/lib/python3.7/site-packages (from aiohttp->datasets) (0.13.0)\r\n",
      "Requirement already satisfied: zipp>=0.5 in /opt/conda/lib/python3.7/site-packages (from importlib-metadata->datasets) (3.6.0)\r\n",
      "Requirement already satisfied: python-dateutil>=2.7.3 in /opt/conda/lib/python3.7/site-packages (from pandas->datasets) (2.8.2)\r\n",
      "Requirement already satisfied: pytz>=2017.3 in /opt/conda/lib/python3.7/site-packages (from pandas->datasets) (2021.3)\r\n",
      "Requirement already satisfied: six>=1.5 in /opt/conda/lib/python3.7/site-packages (from python-dateutil>=2.7.3->pandas->datasets) (1.16.0)\r\n",
      "Installing collected packages: xxhash, responses, datasets\r\n",
      "Successfully installed datasets-2.0.0 responses-0.18.0 xxhash-3.0.0\r\n",
      "\u001b[33mWARNING: Running pip as the 'root' user can result in broken permissions and conflicting behaviour with the system package manager. It is recommended to use a virtual environment instead: https://pip.pypa.io/warnings/venv\u001b[0m\r\n"
     ]
    }
   ],
   "source": [
    "!pip install datasets"
   ]
  },
  {
   "cell_type": "code",
   "execution_count": 3,
   "id": "e1695c0e",
   "metadata": {
    "execution": {
     "iopub.execute_input": "2022-03-26T16:13:31.274200Z",
     "iopub.status.busy": "2022-03-26T16:13:31.273391Z",
     "iopub.status.idle": "2022-03-26T16:13:37.943802Z",
     "shell.execute_reply": "2022-03-26T16:13:37.943291Z",
     "shell.execute_reply.started": "2022-03-20T10:24:57.402142Z"
    },
    "papermill": {
     "duration": 6.737176,
     "end_time": "2022-03-26T16:13:37.943938",
     "exception": false,
     "start_time": "2022-03-26T16:13:31.206762",
     "status": "completed"
    },
    "tags": []
   },
   "outputs": [],
   "source": [
    "import numpy as np\n",
    "import os\n",
    "from transformers import T5Tokenizer, T5ForConditionalGeneration\n",
    "from sklearn.model_selection import train_test_split\n",
    "from transformers import Seq2SeqTrainingArguments, Seq2SeqTrainer, DataCollatorForSeq2Seq\n",
    "from datasets import load_metric\n",
    "import datasets"
   ]
  },
  {
   "cell_type": "code",
   "execution_count": 4,
   "id": "feffaec6",
   "metadata": {
    "execution": {
     "iopub.execute_input": "2022-03-26T16:13:38.085433Z",
     "iopub.status.busy": "2022-03-26T16:13:38.084460Z",
     "iopub.status.idle": "2022-03-26T16:13:38.087689Z",
     "shell.execute_reply": "2022-03-26T16:13:38.087219Z",
     "shell.execute_reply.started": "2022-03-20T10:25:03.884337Z"
    },
    "papermill": {
     "duration": 0.079844,
     "end_time": "2022-03-26T16:13:38.087808",
     "exception": false,
     "start_time": "2022-03-26T16:13:38.007964",
     "status": "completed"
    },
    "tags": []
   },
   "outputs": [],
   "source": [
    "class GuwenDataLoader:\n",
    "    def __init__(self, data_dir):\n",
    "        dataset = []\n",
    "        self.data_dir = data_dir\n",
    "        self.tokenizer = T5Tokenizer.from_pretrained(\"Langboat/mengzi-t5-base\")\n",
    "        self.to_classical_prefix = self.tokenizer(\"转古文：\")\n",
    "        self.to_modern_prefix = self.tokenizer(\"转现代文：\")\n",
    "        for (dirpath, dirnames, filenames) in os.walk(self.data_dir):\n",
    "            for filename in filenames:\n",
    "#                 if filename.endswith(\"史\"):\n",
    "                data = self.load_corpus(os.path.join(self.data_dir, filename))\n",
    "                print(f\"loaded {filename} with {len(data)} pairs\")\n",
    "                dataset.extend(data)\n",
    "        self.train, self.dev = train_test_split(dataset, test_size=0.025)\n",
    "        print(f\"Train: {len(self.train)} pairs, Dev: {len(self.dev)} pairs\")\n",
    "        \n",
    "\n",
    "    def load_corpus(self, filename):\n",
    "        parallel_corpus = []\n",
    "        with open(filename, \"r\") as file:\n",
    "            classic_to_modern = {}\n",
    "            modern_to_classic = {}\n",
    "            lines = file.readlines()\n",
    "            for line in lines:\n",
    "                if line.startswith(\"古文\"):\n",
    "                    tokenized = self.tokenizer(line[3:].strip(), truncation=True, max_length=100)\n",
    "#                     classic_to_modern['input_ids'] = self.to_modern_prefix['input_ids'] + tokenized['input_ids']\n",
    "#                     classic_to_modern['attention_mask'] = self.to_modern_prefix['attention_mask'] + tokenized['attention_mask']\n",
    "                    modern_to_classic['labels'] = tokenized['input_ids']\n",
    "                elif line.startswith(\"现代文\"):\n",
    "                    tokenized = self.tokenizer(line[4:].strip(), truncation=True, max_length=100)\n",
    "                    modern_to_classic['input_ids'] = self.to_classical_prefix['input_ids'] + tokenized['input_ids']\n",
    "                    modern_to_classic['attention_mask'] = self.to_classical_prefix['attention_mask'] + tokenized['attention_mask']\n",
    "#                     classic_to_modern['labels'] = tokenized['input_ids']\n",
    "                elif line == \"\\n\":\n",
    "#                     for item in [modern_to_classic, classic_to_modern]:\n",
    "                    for item in [modern_to_classic]:\n",
    "                        if 'input_ids' in item and 'labels' in item:\n",
    "                            parallel_corpus.append(item)\n",
    "                        else:\n",
    "                            raise Exception(\"Unexpected data corrupton\")\n",
    "                    classic_to_modern = {}\n",
    "                    modern_to_classic = {}\n",
    "                else:\n",
    "                    raise Exception(\"unexpected!\")\n",
    "        return parallel_corpus"
   ]
  },
  {
   "cell_type": "code",
   "execution_count": 5,
   "id": "b9455b91",
   "metadata": {
    "execution": {
     "iopub.execute_input": "2022-03-26T16:13:38.224007Z",
     "iopub.status.busy": "2022-03-26T16:13:38.223464Z",
     "iopub.status.idle": "2022-03-26T16:14:16.945719Z",
     "shell.execute_reply": "2022-03-26T16:14:16.945070Z",
     "shell.execute_reply.started": "2022-03-20T10:25:03.899585Z"
    },
    "papermill": {
     "duration": 38.793762,
     "end_time": "2022-03-26T16:14:16.945859",
     "exception": false,
     "start_time": "2022-03-26T16:13:38.152097",
     "status": "completed"
    },
    "tags": []
   },
   "outputs": [
    {
     "data": {
      "application/vnd.jupyter.widget-view+json": {
       "model_id": "f4dbdb8ef72e4cd39ced5f25d9befda1",
       "version_major": 2,
       "version_minor": 0
      },
      "text/plain": [
       "Downloading:   0%|          | 0.00/659 [00:00<?, ?B/s]"
      ]
     },
     "metadata": {},
     "output_type": "display_data"
    },
    {
     "data": {
      "application/vnd.jupyter.widget-view+json": {
       "model_id": "1216c20f785e45b8a37d9aa83f8723a0",
       "version_major": 2,
       "version_minor": 0
      },
      "text/plain": [
       "Downloading:   0%|          | 0.00/945M [00:00<?, ?B/s]"
      ]
     },
     "metadata": {},
     "output_type": "display_data"
    }
   ],
   "source": [
    "model = T5ForConditionalGeneration.from_pretrained(\"Langboat/mengzi-t5-base\")"
   ]
  },
  {
   "cell_type": "code",
   "execution_count": 6,
   "id": "71b44528",
   "metadata": {
    "execution": {
     "iopub.execute_input": "2022-03-26T16:14:17.083599Z",
     "iopub.status.busy": "2022-03-26T16:14:17.082797Z",
     "iopub.status.idle": "2022-03-26T16:20:40.150309Z",
     "shell.execute_reply": "2022-03-26T16:20:40.150726Z",
     "shell.execute_reply.started": "2022-03-20T10:25:29.156687Z"
    },
    "papermill": {
     "duration": 383.136918,
     "end_time": "2022-03-26T16:20:40.150894",
     "exception": false,
     "start_time": "2022-03-26T16:14:17.013976",
     "status": "completed"
    },
    "tags": []
   },
   "outputs": [
    {
     "data": {
      "application/vnd.jupyter.widget-view+json": {
       "model_id": "2ef1efc9560f4dee80b70ba8642b42a6",
       "version_major": 2,
       "version_minor": 0
      },
      "text/plain": [
       "Downloading:   0%|          | 0.00/708k [00:00<?, ?B/s]"
      ]
     },
     "metadata": {},
     "output_type": "display_data"
    },
    {
     "name": "stdout",
     "output_type": "stream",
     "text": [
      "loaded 宋史 with 77853 pairs\n",
      "loaded 北齐书 with 10947 pairs\n",
      "loaded 新唐书 with 12359 pairs\n",
      "loaded 徐霞客 with 22750 pairs\n",
      "loaded 晋书 with 21133 pairs\n",
      "loaded 南史 with 13838 pairs\n",
      "loaded 金史 with 13758 pairs\n",
      "loaded 短篇章和资治通鉴 with 348726 pairs\n",
      "loaded 陈书 with 7096 pairs\n",
      "loaded 新五代史 with 10147 pairs\n",
      "loaded 汉书 with 37622 pairs\n",
      "loaded 梁书 with 14318 pairs\n",
      "loaded 史记 with 17701 pairs\n",
      "loaded 隋书 with 8204 pairs\n",
      "loaded 宋书 with 23794 pairs\n",
      "loaded 北史 with 25823 pairs\n",
      "loaded 辽史 with 9278 pairs\n",
      "loaded 后汉书 with 17753 pairs\n",
      "loaded 魏书 with 28178 pairs\n",
      "loaded 太平广记 with 59357 pairs\n",
      "loaded 明史 with 85179 pairs\n",
      "loaded 周书 with 14930 pairs\n",
      "loaded 水经注全 with 11630 pairs\n",
      "loaded 旧五代史 with 11377 pairs\n",
      "loaded 旧唐书 with 29185 pairs\n",
      "loaded 南齐书 with 13137 pairs\n",
      "loaded 元史 with 21182 pairs\n",
      "Train: 943073 pairs, Dev: 24182 pairs\n"
     ]
    }
   ],
   "source": [
    "data_loader = GuwenDataLoader(\"/kaggle/working/Classical-Modern/bitext\")"
   ]
  },
  {
   "cell_type": "code",
   "execution_count": 7,
   "id": "1b299b83",
   "metadata": {
    "execution": {
     "iopub.execute_input": "2022-03-26T16:20:40.380652Z",
     "iopub.status.busy": "2022-03-26T16:20:40.317267Z",
     "iopub.status.idle": "2022-03-26T16:20:45.063676Z",
     "shell.execute_reply": "2022-03-26T16:20:45.064191Z",
     "shell.execute_reply.started": "2022-03-20T10:27:15.356094Z"
    },
    "papermill": {
     "duration": 4.832073,
     "end_time": "2022-03-26T16:20:45.064358",
     "exception": false,
     "start_time": "2022-03-26T16:20:40.232285",
     "status": "completed"
    },
    "tags": []
   },
   "outputs": [
    {
     "name": "stderr",
     "output_type": "stream",
     "text": [
      "Using amp half precision backend\n"
     ]
    }
   ],
   "source": [
    "data_collator = DataCollatorForSeq2Seq(tokenizer=data_loader.tokenizer, model=model, padding='longest')\n",
    "training_args = Seq2SeqTrainingArguments(\n",
    "    output_dir=\"results\",\n",
    "    evaluation_strategy=\"steps\",\n",
    "    eval_steps=1500,\n",
    "    save_steps=1500,\n",
    "    learning_rate=3e-5,\n",
    "    per_device_train_batch_size=8,\n",
    "    gradient_accumulation_steps=8,\n",
    "    per_device_eval_batch_size=12,\n",
    "    save_total_limit=3,\n",
    "    warmup_steps=1000,\n",
    "    num_train_epochs=1,\n",
    "    fp16=True,\n",
    "    report_to=\"none\",\n",
    "    dataloader_num_workers=2,\n",
    "    group_by_length=True\n",
    ")\n",
    "\n",
    "trainer = Seq2SeqTrainer(\n",
    "    model=model,\n",
    "    args=training_args,\n",
    "    train_dataset=data_loader.train,\n",
    "    eval_dataset=data_loader.dev,\n",
    "    data_collator=data_collator\n",
    ")"
   ]
  },
  {
   "cell_type": "code",
   "execution_count": 8,
   "id": "343397b3",
   "metadata": {
    "execution": {
     "iopub.execute_input": "2022-03-26T16:20:45.227933Z",
     "iopub.status.busy": "2022-03-26T16:20:45.227334Z",
     "iopub.status.idle": "2022-03-26T20:58:11.977379Z",
     "shell.execute_reply": "2022-03-26T20:58:11.976933Z",
     "shell.execute_reply.started": "2022-03-20T10:27:20.116219Z"
    },
    "papermill": {
     "duration": 16646.831052,
     "end_time": "2022-03-26T20:58:11.977531",
     "exception": false,
     "start_time": "2022-03-26T16:20:45.146479",
     "status": "completed"
    },
    "tags": []
   },
   "outputs": [
    {
     "name": "stderr",
     "output_type": "stream",
     "text": [
      "***** Running training *****\n",
      "  Num examples = 943073\n",
      "  Num Epochs = 1\n",
      "  Instantaneous batch size per device = 8\n",
      "  Total train batch size (w. parallel, distributed & accumulation) = 64\n",
      "  Gradient Accumulation steps = 8\n",
      "  Total optimization steps = 14735\n",
      "/opt/conda/lib/python3.7/site-packages/transformers/trainer.py:1373: FutureWarning: Non-finite norm encountered in torch.nn.utils.clip_grad_norm_; continuing anyway. Note that the default behavior will change in a future release to error out if a non-finite total norm is encountered. At that point, setting error_if_nonfinite=false will be required to retain the old behavior.\n",
      "  args.max_grad_norm,\n"
     ]
    },
    {
     "data": {
      "text/html": [
       "\n",
       "    <div>\n",
       "      \n",
       "      <progress value='14735' max='14735' style='width:300px; height:20px; vertical-align: middle;'></progress>\n",
       "      [14735/14735 4:37:22, Epoch 0/1]\n",
       "    </div>\n",
       "    <table border=\"1\" class=\"dataframe\">\n",
       "  <thead>\n",
       "    <tr style=\"text-align: left;\">\n",
       "      <th>Step</th>\n",
       "      <th>Training Loss</th>\n",
       "      <th>Validation Loss</th>\n",
       "    </tr>\n",
       "  </thead>\n",
       "  <tbody>\n",
       "    <tr>\n",
       "      <td>1500</td>\n",
       "      <td>2.207900</td>\n",
       "      <td>2.047852</td>\n",
       "    </tr>\n",
       "    <tr>\n",
       "      <td>3000</td>\n",
       "      <td>1.957300</td>\n",
       "      <td>1.861795</td>\n",
       "    </tr>\n",
       "    <tr>\n",
       "      <td>4500</td>\n",
       "      <td>1.842200</td>\n",
       "      <td>1.778362</td>\n",
       "    </tr>\n",
       "    <tr>\n",
       "      <td>6000</td>\n",
       "      <td>1.798000</td>\n",
       "      <td>1.719341</td>\n",
       "    </tr>\n",
       "    <tr>\n",
       "      <td>7500</td>\n",
       "      <td>1.759400</td>\n",
       "      <td>1.684877</td>\n",
       "    </tr>\n",
       "    <tr>\n",
       "      <td>9000</td>\n",
       "      <td>1.712800</td>\n",
       "      <td>1.655098</td>\n",
       "    </tr>\n",
       "    <tr>\n",
       "      <td>10500</td>\n",
       "      <td>1.702600</td>\n",
       "      <td>1.634269</td>\n",
       "    </tr>\n",
       "    <tr>\n",
       "      <td>12000</td>\n",
       "      <td>1.684100</td>\n",
       "      <td>1.620749</td>\n",
       "    </tr>\n",
       "    <tr>\n",
       "      <td>13500</td>\n",
       "      <td>1.668400</td>\n",
       "      <td>1.611374</td>\n",
       "    </tr>\n",
       "  </tbody>\n",
       "</table><p>"
      ],
      "text/plain": [
       "<IPython.core.display.HTML object>"
      ]
     },
     "metadata": {},
     "output_type": "display_data"
    },
    {
     "name": "stderr",
     "output_type": "stream",
     "text": [
      "***** Running Evaluation *****\n",
      "  Num examples = 24182\n",
      "  Batch size = 12\n",
      "Saving model checkpoint to results/checkpoint-1500\n",
      "Configuration saved in results/checkpoint-1500/config.json\n",
      "Model weights saved in results/checkpoint-1500/pytorch_model.bin\n",
      "***** Running Evaluation *****\n",
      "  Num examples = 24182\n",
      "  Batch size = 12\n",
      "Saving model checkpoint to results/checkpoint-3000\n",
      "Configuration saved in results/checkpoint-3000/config.json\n",
      "Model weights saved in results/checkpoint-3000/pytorch_model.bin\n",
      "***** Running Evaluation *****\n",
      "  Num examples = 24182\n",
      "  Batch size = 12\n",
      "Saving model checkpoint to results/checkpoint-4500\n",
      "Configuration saved in results/checkpoint-4500/config.json\n",
      "Model weights saved in results/checkpoint-4500/pytorch_model.bin\n",
      "***** Running Evaluation *****\n",
      "  Num examples = 24182\n",
      "  Batch size = 12\n",
      "Saving model checkpoint to results/checkpoint-6000\n",
      "Configuration saved in results/checkpoint-6000/config.json\n",
      "Model weights saved in results/checkpoint-6000/pytorch_model.bin\n",
      "Deleting older checkpoint [results/checkpoint-1500] due to args.save_total_limit\n",
      "***** Running Evaluation *****\n",
      "  Num examples = 24182\n",
      "  Batch size = 12\n",
      "Saving model checkpoint to results/checkpoint-7500\n",
      "Configuration saved in results/checkpoint-7500/config.json\n",
      "Model weights saved in results/checkpoint-7500/pytorch_model.bin\n",
      "Deleting older checkpoint [results/checkpoint-3000] due to args.save_total_limit\n",
      "***** Running Evaluation *****\n",
      "  Num examples = 24182\n",
      "  Batch size = 12\n",
      "Saving model checkpoint to results/checkpoint-9000\n",
      "Configuration saved in results/checkpoint-9000/config.json\n",
      "Model weights saved in results/checkpoint-9000/pytorch_model.bin\n",
      "Deleting older checkpoint [results/checkpoint-4500] due to args.save_total_limit\n",
      "***** Running Evaluation *****\n",
      "  Num examples = 24182\n",
      "  Batch size = 12\n",
      "Saving model checkpoint to results/checkpoint-10500\n",
      "Configuration saved in results/checkpoint-10500/config.json\n",
      "Model weights saved in results/checkpoint-10500/pytorch_model.bin\n",
      "Deleting older checkpoint [results/checkpoint-6000] due to args.save_total_limit\n",
      "/opt/conda/lib/python3.7/site-packages/transformers/trainer.py:1373: FutureWarning: Non-finite norm encountered in torch.nn.utils.clip_grad_norm_; continuing anyway. Note that the default behavior will change in a future release to error out if a non-finite total norm is encountered. At that point, setting error_if_nonfinite=false will be required to retain the old behavior.\n",
      "  args.max_grad_norm,\n",
      "***** Running Evaluation *****\n",
      "  Num examples = 24182\n",
      "  Batch size = 12\n",
      "Saving model checkpoint to results/checkpoint-12000\n",
      "Configuration saved in results/checkpoint-12000/config.json\n",
      "Model weights saved in results/checkpoint-12000/pytorch_model.bin\n",
      "Deleting older checkpoint [results/checkpoint-7500] due to args.save_total_limit\n",
      "***** Running Evaluation *****\n",
      "  Num examples = 24182\n",
      "  Batch size = 12\n",
      "Saving model checkpoint to results/checkpoint-13500\n",
      "Configuration saved in results/checkpoint-13500/config.json\n",
      "Model weights saved in results/checkpoint-13500/pytorch_model.bin\n",
      "Deleting older checkpoint [results/checkpoint-9000] due to args.save_total_limit\n",
      "/opt/conda/lib/python3.7/site-packages/transformers/trainer.py:1373: FutureWarning: Non-finite norm encountered in torch.nn.utils.clip_grad_norm_; continuing anyway. Note that the default behavior will change in a future release to error out if a non-finite total norm is encountered. At that point, setting error_if_nonfinite=false will be required to retain the old behavior.\n",
      "  args.max_grad_norm,\n",
      "\n",
      "\n",
      "Training completed. Do not forget to share your model on huggingface.co/models =)\n",
      "\n",
      "\n"
     ]
    },
    {
     "data": {
      "text/plain": [
       "TrainOutput(global_step=14735, training_loss=1.8888721746956652, metrics={'train_runtime': 16646.1411, 'train_samples_per_second': 56.654, 'train_steps_per_second': 0.885, 'total_flos': 3.978427378522522e+16, 'train_loss': 1.8888721746956652, 'epoch': 1.0})"
      ]
     },
     "execution_count": 8,
     "metadata": {},
     "output_type": "execute_result"
    }
   ],
   "source": [
    "trainer.train()"
   ]
  },
  {
   "cell_type": "code",
   "execution_count": 9,
   "id": "1239ab34",
   "metadata": {
    "execution": {
     "iopub.execute_input": "2022-03-26T20:58:12.176688Z",
     "iopub.status.busy": "2022-03-26T20:58:12.175818Z",
     "iopub.status.idle": "2022-03-26T20:58:12.177751Z",
     "shell.execute_reply": "2022-03-26T20:58:12.178151Z",
     "shell.execute_reply.started": "2022-03-20T09:30:12.043155Z"
    },
    "papermill": {
     "duration": 0.104442,
     "end_time": "2022-03-26T20:58:12.178280",
     "exception": false,
     "start_time": "2022-03-26T20:58:12.073838",
     "status": "completed"
    },
    "tags": []
   },
   "outputs": [],
   "source": [
    "def generate(text):\n",
    "    input_ids = data_loader.tokenizer(\"转古文：\" + text, return_tensors=\"pt\").input_ids.to('cuda')\n",
    "    outputs = model.generate(input_ids, max_length=100)\n",
    "    return data_loader.tokenizer.batch_decode(outputs, skip_special_tokens=True)"
   ]
  },
  {
   "cell_type": "code",
   "execution_count": 10,
   "id": "22721f12",
   "metadata": {
    "execution": {
     "iopub.execute_input": "2022-03-26T20:58:12.375490Z",
     "iopub.status.busy": "2022-03-26T20:58:12.374842Z",
     "iopub.status.idle": "2022-03-26T20:58:12.610035Z",
     "shell.execute_reply": "2022-03-26T20:58:12.610501Z",
     "shell.execute_reply.started": "2022-03-20T09:32:04.516792Z"
    },
    "papermill": {
     "duration": 0.336217,
     "end_time": "2022-03-26T20:58:12.610657",
     "exception": false,
     "start_time": "2022-03-26T20:58:12.274440",
     "status": "completed"
    },
    "tags": []
   },
   "outputs": [
    {
     "data": {
      "text/plain": [
       "['先帝创业未成,中道卒。']"
      ]
     },
     "execution_count": 10,
     "metadata": {},
     "output_type": "execute_result"
    }
   ],
   "source": [
    "generate(\"先帝开创的大业未完成一半却中途去世了。\")"
   ]
  },
  {
   "cell_type": "code",
   "execution_count": 11,
   "id": "c6748b5b",
   "metadata": {
    "execution": {
     "iopub.execute_input": "2022-03-26T20:58:12.811199Z",
     "iopub.status.busy": "2022-03-26T20:58:12.810319Z",
     "iopub.status.idle": "2022-03-26T20:58:13.139300Z",
     "shell.execute_reply": "2022-03-26T20:58:13.139739Z",
     "shell.execute_reply.started": "2022-03-20T09:24:24.154255Z"
    },
    "papermill": {
     "duration": 0.431963,
     "end_time": "2022-03-26T20:58:13.139889",
     "exception": false,
     "start_time": "2022-03-26T20:58:12.707926",
     "status": "completed"
    },
    "tags": []
   },
   "outputs": [
    {
     "data": {
      "text/plain": [
       "['天下为三国,益州民乏,此诚国家危亡之期也。']"
      ]
     },
     "execution_count": 11,
     "metadata": {},
     "output_type": "execute_result"
    }
   ],
   "source": [
    "generate(\"在天下分为三国, 益州地区民力匮乏,这确实是国家危急存亡的时期啊。\")"
   ]
  },
  {
   "cell_type": "code",
   "execution_count": 12,
   "id": "fa46620b",
   "metadata": {
    "_cell_guid": "b1076dfc-b9ad-4769-8c92-a6c4dae69d19",
    "_uuid": "8f2839f25d086af736a60e9eeb907d3b93b6e0e5",
    "execution": {
     "iopub.execute_input": "2022-03-26T20:58:13.342026Z",
     "iopub.status.busy": "2022-03-26T20:58:13.341257Z",
     "iopub.status.idle": "2022-03-26T20:58:13.343804Z",
     "shell.execute_reply": "2022-03-26T20:58:13.343346Z"
    },
    "papermill": {
     "duration": 0.104967,
     "end_time": "2022-03-26T20:58:13.343915",
     "exception": false,
     "start_time": "2022-03-26T20:58:13.238948",
     "status": "completed"
    },
    "tags": []
   },
   "outputs": [],
   "source": [
    "# This Python 3 environment comes with many helpful analytics libraries installed\n",
    "# It is defined by the kaggle/python Docker image: https://github.com/kaggle/docker-python\n",
    "# For example, here's several helpful packages to load\n",
    "\n",
    "import numpy as np # linear algebra\n",
    "import pandas as pd # data processing, CSV file I/O (e.g. pd.read_csv)\n",
    "\n",
    "# Input data files are available in the read-only \"../input/\" directory\n",
    "# For example, running this (by clicking run or pressing Shift+Enter) will list all files under the input directory\n",
    "\n",
    "import os\n",
    "for dirname, _, filenames in os.walk('/kaggle/input'):\n",
    "    for filename in filenames:\n",
    "        print(os.path.join(dirname, filename))\n",
    "\n",
    "# You can write up to 20GB to the current directory (/kaggle/working/) that gets preserved as output when you create a version using \"Save & Run All\" \n",
    "# You can also write temporary files to /kaggle/temp/, but they won't be saved outside of the current session"
   ]
  }
 ],
 "metadata": {
  "kernelspec": {
   "display_name": "Python 3",
   "language": "python",
   "name": "python3"
  },
  "language_info": {
   "codemirror_mode": {
    "name": "ipython",
    "version": 3
   },
   "file_extension": ".py",
   "mimetype": "text/x-python",
   "name": "python",
   "nbconvert_exporter": "python",
   "pygments_lexer": "ipython3",
   "version": "3.7.12"
  },
  "papermill": {
   "default_parameters": {},
   "duration": 17133.770645,
   "end_time": "2022-03-26T20:58:16.284661",
   "environment_variables": {},
   "exception": null,
   "input_path": "__notebook__.ipynb",
   "output_path": "__notebook__.ipynb",
   "parameters": {},
   "start_time": "2022-03-26T16:12:42.514016",
   "version": "2.3.3"
  },
  "widgets": {
   "application/vnd.jupyter.widget-state+json": {
    "state": {
     "0cf386c833c3493ebda3b1996494f335": {
      "model_module": "@jupyter-widgets/base",
      "model_module_version": "1.2.0",
      "model_name": "LayoutModel",
      "state": {
       "_model_module": "@jupyter-widgets/base",
       "_model_module_version": "1.2.0",
       "_model_name": "LayoutModel",
       "_view_count": null,
       "_view_module": "@jupyter-widgets/base",
       "_view_module_version": "1.2.0",
       "_view_name": "LayoutView",
       "align_content": null,
       "align_items": null,
       "align_self": null,
       "border": null,
       "bottom": null,
       "display": null,
       "flex": null,
       "flex_flow": null,
       "grid_area": null,
       "grid_auto_columns": null,
       "grid_auto_flow": null,
       "grid_auto_rows": null,
       "grid_column": null,
       "grid_gap": null,
       "grid_row": null,
       "grid_template_areas": null,
       "grid_template_columns": null,
       "grid_template_rows": null,
       "height": null,
       "justify_content": null,
       "justify_items": null,
       "left": null,
       "margin": null,
       "max_height": null,
       "max_width": null,
       "min_height": null,
       "min_width": null,
       "object_fit": null,
       "object_position": null,
       "order": null,
       "overflow": null,
       "overflow_x": null,
       "overflow_y": null,
       "padding": null,
       "right": null,
       "top": null,
       "visibility": null,
       "width": null
      }
     },
     "1216c20f785e45b8a37d9aa83f8723a0": {
      "model_module": "@jupyter-widgets/controls",
      "model_module_version": "1.5.0",
      "model_name": "HBoxModel",
      "state": {
       "_dom_classes": [],
       "_model_module": "@jupyter-widgets/controls",
       "_model_module_version": "1.5.0",
       "_model_name": "HBoxModel",
       "_view_count": null,
       "_view_module": "@jupyter-widgets/controls",
       "_view_module_version": "1.5.0",
       "_view_name": "HBoxView",
       "box_style": "",
       "children": [
        "IPY_MODEL_3f16ebaa03064494b00249cca228b841",
        "IPY_MODEL_a7f20b5accd44e5cae83c44c621f75a5",
        "IPY_MODEL_24bb273effdb425ab2ed8f24c5735ae0"
       ],
       "layout": "IPY_MODEL_1d367dba5b264c279750a882eee9e75e"
      }
     },
     "14bc8ef0b71242dbb18f948f469168f8": {
      "model_module": "@jupyter-widgets/controls",
      "model_module_version": "1.5.0",
      "model_name": "DescriptionStyleModel",
      "state": {
       "_model_module": "@jupyter-widgets/controls",
       "_model_module_version": "1.5.0",
       "_model_name": "DescriptionStyleModel",
       "_view_count": null,
       "_view_module": "@jupyter-widgets/base",
       "_view_module_version": "1.2.0",
       "_view_name": "StyleView",
       "description_width": ""
      }
     },
     "1c046c27e06a4b04bd4b40aa7c2fc9ce": {
      "model_module": "@jupyter-widgets/base",
      "model_module_version": "1.2.0",
      "model_name": "LayoutModel",
      "state": {
       "_model_module": "@jupyter-widgets/base",
       "_model_module_version": "1.2.0",
       "_model_name": "LayoutModel",
       "_view_count": null,
       "_view_module": "@jupyter-widgets/base",
       "_view_module_version": "1.2.0",
       "_view_name": "LayoutView",
       "align_content": null,
       "align_items": null,
       "align_self": null,
       "border": null,
       "bottom": null,
       "display": null,
       "flex": null,
       "flex_flow": null,
       "grid_area": null,
       "grid_auto_columns": null,
       "grid_auto_flow": null,
       "grid_auto_rows": null,
       "grid_column": null,
       "grid_gap": null,
       "grid_row": null,
       "grid_template_areas": null,
       "grid_template_columns": null,
       "grid_template_rows": null,
       "height": null,
       "justify_content": null,
       "justify_items": null,
       "left": null,
       "margin": null,
       "max_height": null,
       "max_width": null,
       "min_height": null,
       "min_width": null,
       "object_fit": null,
       "object_position": null,
       "order": null,
       "overflow": null,
       "overflow_x": null,
       "overflow_y": null,
       "padding": null,
       "right": null,
       "top": null,
       "visibility": null,
       "width": null
      }
     },
     "1d367dba5b264c279750a882eee9e75e": {
      "model_module": "@jupyter-widgets/base",
      "model_module_version": "1.2.0",
      "model_name": "LayoutModel",
      "state": {
       "_model_module": "@jupyter-widgets/base",
       "_model_module_version": "1.2.0",
       "_model_name": "LayoutModel",
       "_view_count": null,
       "_view_module": "@jupyter-widgets/base",
       "_view_module_version": "1.2.0",
       "_view_name": "LayoutView",
       "align_content": null,
       "align_items": null,
       "align_self": null,
       "border": null,
       "bottom": null,
       "display": null,
       "flex": null,
       "flex_flow": null,
       "grid_area": null,
       "grid_auto_columns": null,
       "grid_auto_flow": null,
       "grid_auto_rows": null,
       "grid_column": null,
       "grid_gap": null,
       "grid_row": null,
       "grid_template_areas": null,
       "grid_template_columns": null,
       "grid_template_rows": null,
       "height": null,
       "justify_content": null,
       "justify_items": null,
       "left": null,
       "margin": null,
       "max_height": null,
       "max_width": null,
       "min_height": null,
       "min_width": null,
       "object_fit": null,
       "object_position": null,
       "order": null,
       "overflow": null,
       "overflow_x": null,
       "overflow_y": null,
       "padding": null,
       "right": null,
       "top": null,
       "visibility": null,
       "width": null
      }
     },
     "24bb273effdb425ab2ed8f24c5735ae0": {
      "model_module": "@jupyter-widgets/controls",
      "model_module_version": "1.5.0",
      "model_name": "HTMLModel",
      "state": {
       "_dom_classes": [],
       "_model_module": "@jupyter-widgets/controls",
       "_model_module_version": "1.5.0",
       "_model_name": "HTMLModel",
       "_view_count": null,
       "_view_module": "@jupyter-widgets/controls",
       "_view_module_version": "1.5.0",
       "_view_name": "HTMLView",
       "description": "",
       "description_tooltip": null,
       "layout": "IPY_MODEL_0cf386c833c3493ebda3b1996494f335",
       "placeholder": "​",
       "style": "IPY_MODEL_5a4494c3110140c7b13818bae314c3b3",
       "value": " 945M/945M [00:33&lt;00:00, 31.3MB/s]"
      }
     },
     "254be198f15e4eaba4e6af62bb6dc4dc": {
      "model_module": "@jupyter-widgets/controls",
      "model_module_version": "1.5.0",
      "model_name": "ProgressStyleModel",
      "state": {
       "_model_module": "@jupyter-widgets/controls",
       "_model_module_version": "1.5.0",
       "_model_name": "ProgressStyleModel",
       "_view_count": null,
       "_view_module": "@jupyter-widgets/base",
       "_view_module_version": "1.2.0",
       "_view_name": "StyleView",
       "bar_color": null,
       "description_width": ""
      }
     },
     "2c7c9ddbf943488788cf272412c4b5d5": {
      "model_module": "@jupyter-widgets/controls",
      "model_module_version": "1.5.0",
      "model_name": "DescriptionStyleModel",
      "state": {
       "_model_module": "@jupyter-widgets/controls",
       "_model_module_version": "1.5.0",
       "_model_name": "DescriptionStyleModel",
       "_view_count": null,
       "_view_module": "@jupyter-widgets/base",
       "_view_module_version": "1.2.0",
       "_view_name": "StyleView",
       "description_width": ""
      }
     },
     "2ef1efc9560f4dee80b70ba8642b42a6": {
      "model_module": "@jupyter-widgets/controls",
      "model_module_version": "1.5.0",
      "model_name": "HBoxModel",
      "state": {
       "_dom_classes": [],
       "_model_module": "@jupyter-widgets/controls",
       "_model_module_version": "1.5.0",
       "_model_name": "HBoxModel",
       "_view_count": null,
       "_view_module": "@jupyter-widgets/controls",
       "_view_module_version": "1.5.0",
       "_view_name": "HBoxView",
       "box_style": "",
       "children": [
        "IPY_MODEL_938d4583b0754488830fde4165427384",
        "IPY_MODEL_bd7a3f4477d84e59b5ffe0cbc82a067e",
        "IPY_MODEL_34c7c224af2b4e0ca557721a0861cf9e"
       ],
       "layout": "IPY_MODEL_f073a809a0c34deab91979bf1672c1e3"
      }
     },
     "2f68ad49f4e8406da10df202617bbb0a": {
      "model_module": "@jupyter-widgets/base",
      "model_module_version": "1.2.0",
      "model_name": "LayoutModel",
      "state": {
       "_model_module": "@jupyter-widgets/base",
       "_model_module_version": "1.2.0",
       "_model_name": "LayoutModel",
       "_view_count": null,
       "_view_module": "@jupyter-widgets/base",
       "_view_module_version": "1.2.0",
       "_view_name": "LayoutView",
       "align_content": null,
       "align_items": null,
       "align_self": null,
       "border": null,
       "bottom": null,
       "display": null,
       "flex": null,
       "flex_flow": null,
       "grid_area": null,
       "grid_auto_columns": null,
       "grid_auto_flow": null,
       "grid_auto_rows": null,
       "grid_column": null,
       "grid_gap": null,
       "grid_row": null,
       "grid_template_areas": null,
       "grid_template_columns": null,
       "grid_template_rows": null,
       "height": null,
       "justify_content": null,
       "justify_items": null,
       "left": null,
       "margin": null,
       "max_height": null,
       "max_width": null,
       "min_height": null,
       "min_width": null,
       "object_fit": null,
       "object_position": null,
       "order": null,
       "overflow": null,
       "overflow_x": null,
       "overflow_y": null,
       "padding": null,
       "right": null,
       "top": null,
       "visibility": null,
       "width": null
      }
     },
     "34c7c224af2b4e0ca557721a0861cf9e": {
      "model_module": "@jupyter-widgets/controls",
      "model_module_version": "1.5.0",
      "model_name": "HTMLModel",
      "state": {
       "_dom_classes": [],
       "_model_module": "@jupyter-widgets/controls",
       "_model_module_version": "1.5.0",
       "_model_name": "HTMLModel",
       "_view_count": null,
       "_view_module": "@jupyter-widgets/controls",
       "_view_module_version": "1.5.0",
       "_view_name": "HTMLView",
       "description": "",
       "description_tooltip": null,
       "layout": "IPY_MODEL_aa6d912465374f55881f49186cfef2a5",
       "placeholder": "​",
       "style": "IPY_MODEL_904594398b6c49b8b131779a2e66e744",
       "value": " 708k/708k [00:00&lt;00:00, 1.73MB/s]"
      }
     },
     "3f16ebaa03064494b00249cca228b841": {
      "model_module": "@jupyter-widgets/controls",
      "model_module_version": "1.5.0",
      "model_name": "HTMLModel",
      "state": {
       "_dom_classes": [],
       "_model_module": "@jupyter-widgets/controls",
       "_model_module_version": "1.5.0",
       "_model_name": "HTMLModel",
       "_view_count": null,
       "_view_module": "@jupyter-widgets/controls",
       "_view_module_version": "1.5.0",
       "_view_name": "HTMLView",
       "description": "",
       "description_tooltip": null,
       "layout": "IPY_MODEL_47ff2617f49c4d678b55ea8f1ea0f260",
       "placeholder": "​",
       "style": "IPY_MODEL_14bc8ef0b71242dbb18f948f469168f8",
       "value": "Downloading: 100%"
      }
     },
     "47ff2617f49c4d678b55ea8f1ea0f260": {
      "model_module": "@jupyter-widgets/base",
      "model_module_version": "1.2.0",
      "model_name": "LayoutModel",
      "state": {
       "_model_module": "@jupyter-widgets/base",
       "_model_module_version": "1.2.0",
       "_model_name": "LayoutModel",
       "_view_count": null,
       "_view_module": "@jupyter-widgets/base",
       "_view_module_version": "1.2.0",
       "_view_name": "LayoutView",
       "align_content": null,
       "align_items": null,
       "align_self": null,
       "border": null,
       "bottom": null,
       "display": null,
       "flex": null,
       "flex_flow": null,
       "grid_area": null,
       "grid_auto_columns": null,
       "grid_auto_flow": null,
       "grid_auto_rows": null,
       "grid_column": null,
       "grid_gap": null,
       "grid_row": null,
       "grid_template_areas": null,
       "grid_template_columns": null,
       "grid_template_rows": null,
       "height": null,
       "justify_content": null,
       "justify_items": null,
       "left": null,
       "margin": null,
       "max_height": null,
       "max_width": null,
       "min_height": null,
       "min_width": null,
       "object_fit": null,
       "object_position": null,
       "order": null,
       "overflow": null,
       "overflow_x": null,
       "overflow_y": null,
       "padding": null,
       "right": null,
       "top": null,
       "visibility": null,
       "width": null
      }
     },
     "513f96c0475e4dcfbf829fd3aa378144": {
      "model_module": "@jupyter-widgets/base",
      "model_module_version": "1.2.0",
      "model_name": "LayoutModel",
      "state": {
       "_model_module": "@jupyter-widgets/base",
       "_model_module_version": "1.2.0",
       "_model_name": "LayoutModel",
       "_view_count": null,
       "_view_module": "@jupyter-widgets/base",
       "_view_module_version": "1.2.0",
       "_view_name": "LayoutView",
       "align_content": null,
       "align_items": null,
       "align_self": null,
       "border": null,
       "bottom": null,
       "display": null,
       "flex": null,
       "flex_flow": null,
       "grid_area": null,
       "grid_auto_columns": null,
       "grid_auto_flow": null,
       "grid_auto_rows": null,
       "grid_column": null,
       "grid_gap": null,
       "grid_row": null,
       "grid_template_areas": null,
       "grid_template_columns": null,
       "grid_template_rows": null,
       "height": null,
       "justify_content": null,
       "justify_items": null,
       "left": null,
       "margin": null,
       "max_height": null,
       "max_width": null,
       "min_height": null,
       "min_width": null,
       "object_fit": null,
       "object_position": null,
       "order": null,
       "overflow": null,
       "overflow_x": null,
       "overflow_y": null,
       "padding": null,
       "right": null,
       "top": null,
       "visibility": null,
       "width": null
      }
     },
     "58c7c950245a439cb682f5780648add2": {
      "model_module": "@jupyter-widgets/base",
      "model_module_version": "1.2.0",
      "model_name": "LayoutModel",
      "state": {
       "_model_module": "@jupyter-widgets/base",
       "_model_module_version": "1.2.0",
       "_model_name": "LayoutModel",
       "_view_count": null,
       "_view_module": "@jupyter-widgets/base",
       "_view_module_version": "1.2.0",
       "_view_name": "LayoutView",
       "align_content": null,
       "align_items": null,
       "align_self": null,
       "border": null,
       "bottom": null,
       "display": null,
       "flex": null,
       "flex_flow": null,
       "grid_area": null,
       "grid_auto_columns": null,
       "grid_auto_flow": null,
       "grid_auto_rows": null,
       "grid_column": null,
       "grid_gap": null,
       "grid_row": null,
       "grid_template_areas": null,
       "grid_template_columns": null,
       "grid_template_rows": null,
       "height": null,
       "justify_content": null,
       "justify_items": null,
       "left": null,
       "margin": null,
       "max_height": null,
       "max_width": null,
       "min_height": null,
       "min_width": null,
       "object_fit": null,
       "object_position": null,
       "order": null,
       "overflow": null,
       "overflow_x": null,
       "overflow_y": null,
       "padding": null,
       "right": null,
       "top": null,
       "visibility": null,
       "width": null
      }
     },
     "5a4494c3110140c7b13818bae314c3b3": {
      "model_module": "@jupyter-widgets/controls",
      "model_module_version": "1.5.0",
      "model_name": "DescriptionStyleModel",
      "state": {
       "_model_module": "@jupyter-widgets/controls",
       "_model_module_version": "1.5.0",
       "_model_name": "DescriptionStyleModel",
       "_view_count": null,
       "_view_module": "@jupyter-widgets/base",
       "_view_module_version": "1.2.0",
       "_view_name": "StyleView",
       "description_width": ""
      }
     },
     "65c50c8dc43b4f739533234e8040c231": {
      "model_module": "@jupyter-widgets/controls",
      "model_module_version": "1.5.0",
      "model_name": "DescriptionStyleModel",
      "state": {
       "_model_module": "@jupyter-widgets/controls",
       "_model_module_version": "1.5.0",
       "_model_name": "DescriptionStyleModel",
       "_view_count": null,
       "_view_module": "@jupyter-widgets/base",
       "_view_module_version": "1.2.0",
       "_view_name": "StyleView",
       "description_width": ""
      }
     },
     "74769a0a5b6a47c39bdc9bac2176175c": {
      "model_module": "@jupyter-widgets/controls",
      "model_module_version": "1.5.0",
      "model_name": "ProgressStyleModel",
      "state": {
       "_model_module": "@jupyter-widgets/controls",
       "_model_module_version": "1.5.0",
       "_model_name": "ProgressStyleModel",
       "_view_count": null,
       "_view_module": "@jupyter-widgets/base",
       "_view_module_version": "1.2.0",
       "_view_name": "StyleView",
       "bar_color": null,
       "description_width": ""
      }
     },
     "897c2166a8c9444ab169528ac0433af3": {
      "model_module": "@jupyter-widgets/base",
      "model_module_version": "1.2.0",
      "model_name": "LayoutModel",
      "state": {
       "_model_module": "@jupyter-widgets/base",
       "_model_module_version": "1.2.0",
       "_model_name": "LayoutModel",
       "_view_count": null,
       "_view_module": "@jupyter-widgets/base",
       "_view_module_version": "1.2.0",
       "_view_name": "LayoutView",
       "align_content": null,
       "align_items": null,
       "align_self": null,
       "border": null,
       "bottom": null,
       "display": null,
       "flex": null,
       "flex_flow": null,
       "grid_area": null,
       "grid_auto_columns": null,
       "grid_auto_flow": null,
       "grid_auto_rows": null,
       "grid_column": null,
       "grid_gap": null,
       "grid_row": null,
       "grid_template_areas": null,
       "grid_template_columns": null,
       "grid_template_rows": null,
       "height": null,
       "justify_content": null,
       "justify_items": null,
       "left": null,
       "margin": null,
       "max_height": null,
       "max_width": null,
       "min_height": null,
       "min_width": null,
       "object_fit": null,
       "object_position": null,
       "order": null,
       "overflow": null,
       "overflow_x": null,
       "overflow_y": null,
       "padding": null,
       "right": null,
       "top": null,
       "visibility": null,
       "width": null
      }
     },
     "8a5cc8e9ec6040e4ae60ff6adcbc3416": {
      "model_module": "@jupyter-widgets/base",
      "model_module_version": "1.2.0",
      "model_name": "LayoutModel",
      "state": {
       "_model_module": "@jupyter-widgets/base",
       "_model_module_version": "1.2.0",
       "_model_name": "LayoutModel",
       "_view_count": null,
       "_view_module": "@jupyter-widgets/base",
       "_view_module_version": "1.2.0",
       "_view_name": "LayoutView",
       "align_content": null,
       "align_items": null,
       "align_self": null,
       "border": null,
       "bottom": null,
       "display": null,
       "flex": null,
       "flex_flow": null,
       "grid_area": null,
       "grid_auto_columns": null,
       "grid_auto_flow": null,
       "grid_auto_rows": null,
       "grid_column": null,
       "grid_gap": null,
       "grid_row": null,
       "grid_template_areas": null,
       "grid_template_columns": null,
       "grid_template_rows": null,
       "height": null,
       "justify_content": null,
       "justify_items": null,
       "left": null,
       "margin": null,
       "max_height": null,
       "max_width": null,
       "min_height": null,
       "min_width": null,
       "object_fit": null,
       "object_position": null,
       "order": null,
       "overflow": null,
       "overflow_x": null,
       "overflow_y": null,
       "padding": null,
       "right": null,
       "top": null,
       "visibility": null,
       "width": null
      }
     },
     "904594398b6c49b8b131779a2e66e744": {
      "model_module": "@jupyter-widgets/controls",
      "model_module_version": "1.5.0",
      "model_name": "DescriptionStyleModel",
      "state": {
       "_model_module": "@jupyter-widgets/controls",
       "_model_module_version": "1.5.0",
       "_model_name": "DescriptionStyleModel",
       "_view_count": null,
       "_view_module": "@jupyter-widgets/base",
       "_view_module_version": "1.2.0",
       "_view_name": "StyleView",
       "description_width": ""
      }
     },
     "938d4583b0754488830fde4165427384": {
      "model_module": "@jupyter-widgets/controls",
      "model_module_version": "1.5.0",
      "model_name": "HTMLModel",
      "state": {
       "_dom_classes": [],
       "_model_module": "@jupyter-widgets/controls",
       "_model_module_version": "1.5.0",
       "_model_name": "HTMLModel",
       "_view_count": null,
       "_view_module": "@jupyter-widgets/controls",
       "_view_module_version": "1.5.0",
       "_view_name": "HTMLView",
       "description": "",
       "description_tooltip": null,
       "layout": "IPY_MODEL_1c046c27e06a4b04bd4b40aa7c2fc9ce",
       "placeholder": "​",
       "style": "IPY_MODEL_a41433ad362f44919d401406e428267d",
       "value": "Downloading: 100%"
      }
     },
     "a41433ad362f44919d401406e428267d": {
      "model_module": "@jupyter-widgets/controls",
      "model_module_version": "1.5.0",
      "model_name": "DescriptionStyleModel",
      "state": {
       "_model_module": "@jupyter-widgets/controls",
       "_model_module_version": "1.5.0",
       "_model_name": "DescriptionStyleModel",
       "_view_count": null,
       "_view_module": "@jupyter-widgets/base",
       "_view_module_version": "1.2.0",
       "_view_name": "StyleView",
       "description_width": ""
      }
     },
     "a7f20b5accd44e5cae83c44c621f75a5": {
      "model_module": "@jupyter-widgets/controls",
      "model_module_version": "1.5.0",
      "model_name": "FloatProgressModel",
      "state": {
       "_dom_classes": [],
       "_model_module": "@jupyter-widgets/controls",
       "_model_module_version": "1.5.0",
       "_model_name": "FloatProgressModel",
       "_view_count": null,
       "_view_module": "@jupyter-widgets/controls",
       "_view_module_version": "1.5.0",
       "_view_name": "ProgressView",
       "bar_style": "success",
       "description": "",
       "description_tooltip": null,
       "layout": "IPY_MODEL_58c7c950245a439cb682f5780648add2",
       "max": 990389880.0,
       "min": 0.0,
       "orientation": "horizontal",
       "style": "IPY_MODEL_254be198f15e4eaba4e6af62bb6dc4dc",
       "value": 990389880.0
      }
     },
     "aa6d912465374f55881f49186cfef2a5": {
      "model_module": "@jupyter-widgets/base",
      "model_module_version": "1.2.0",
      "model_name": "LayoutModel",
      "state": {
       "_model_module": "@jupyter-widgets/base",
       "_model_module_version": "1.2.0",
       "_model_name": "LayoutModel",
       "_view_count": null,
       "_view_module": "@jupyter-widgets/base",
       "_view_module_version": "1.2.0",
       "_view_name": "LayoutView",
       "align_content": null,
       "align_items": null,
       "align_self": null,
       "border": null,
       "bottom": null,
       "display": null,
       "flex": null,
       "flex_flow": null,
       "grid_area": null,
       "grid_auto_columns": null,
       "grid_auto_flow": null,
       "grid_auto_rows": null,
       "grid_column": null,
       "grid_gap": null,
       "grid_row": null,
       "grid_template_areas": null,
       "grid_template_columns": null,
       "grid_template_rows": null,
       "height": null,
       "justify_content": null,
       "justify_items": null,
       "left": null,
       "margin": null,
       "max_height": null,
       "max_width": null,
       "min_height": null,
       "min_width": null,
       "object_fit": null,
       "object_position": null,
       "order": null,
       "overflow": null,
       "overflow_x": null,
       "overflow_y": null,
       "padding": null,
       "right": null,
       "top": null,
       "visibility": null,
       "width": null
      }
     },
     "bd7a3f4477d84e59b5ffe0cbc82a067e": {
      "model_module": "@jupyter-widgets/controls",
      "model_module_version": "1.5.0",
      "model_name": "FloatProgressModel",
      "state": {
       "_dom_classes": [],
       "_model_module": "@jupyter-widgets/controls",
       "_model_module_version": "1.5.0",
       "_model_name": "FloatProgressModel",
       "_view_count": null,
       "_view_module": "@jupyter-widgets/controls",
       "_view_module_version": "1.5.0",
       "_view_name": "ProgressView",
       "bar_style": "success",
       "description": "",
       "description_tooltip": null,
       "layout": "IPY_MODEL_2f68ad49f4e8406da10df202617bbb0a",
       "max": 725135.0,
       "min": 0.0,
       "orientation": "horizontal",
       "style": "IPY_MODEL_e8c03717c80044c7908e186ab972e7cc",
       "value": 725135.0
      }
     },
     "ce240cfcbecc4a03bdb8d01db3b4f4ef": {
      "model_module": "@jupyter-widgets/controls",
      "model_module_version": "1.5.0",
      "model_name": "HTMLModel",
      "state": {
       "_dom_classes": [],
       "_model_module": "@jupyter-widgets/controls",
       "_model_module_version": "1.5.0",
       "_model_name": "HTMLModel",
       "_view_count": null,
       "_view_module": "@jupyter-widgets/controls",
       "_view_module_version": "1.5.0",
       "_view_name": "HTMLView",
       "description": "",
       "description_tooltip": null,
       "layout": "IPY_MODEL_897c2166a8c9444ab169528ac0433af3",
       "placeholder": "​",
       "style": "IPY_MODEL_65c50c8dc43b4f739533234e8040c231",
       "value": " 659/659 [00:00&lt;00:00, 20.6kB/s]"
      }
     },
     "e8c03717c80044c7908e186ab972e7cc": {
      "model_module": "@jupyter-widgets/controls",
      "model_module_version": "1.5.0",
      "model_name": "ProgressStyleModel",
      "state": {
       "_model_module": "@jupyter-widgets/controls",
       "_model_module_version": "1.5.0",
       "_model_name": "ProgressStyleModel",
       "_view_count": null,
       "_view_module": "@jupyter-widgets/base",
       "_view_module_version": "1.2.0",
       "_view_name": "StyleView",
       "bar_color": null,
       "description_width": ""
      }
     },
     "edcc82988c61487a9c1d6b5e3754a87a": {
      "model_module": "@jupyter-widgets/controls",
      "model_module_version": "1.5.0",
      "model_name": "FloatProgressModel",
      "state": {
       "_dom_classes": [],
       "_model_module": "@jupyter-widgets/controls",
       "_model_module_version": "1.5.0",
       "_model_name": "FloatProgressModel",
       "_view_count": null,
       "_view_module": "@jupyter-widgets/controls",
       "_view_module_version": "1.5.0",
       "_view_name": "ProgressView",
       "bar_style": "success",
       "description": "",
       "description_tooltip": null,
       "layout": "IPY_MODEL_f2a7c234af0c4cff8f3a8c321c04d5e1",
       "max": 659.0,
       "min": 0.0,
       "orientation": "horizontal",
       "style": "IPY_MODEL_74769a0a5b6a47c39bdc9bac2176175c",
       "value": 659.0
      }
     },
     "f073a809a0c34deab91979bf1672c1e3": {
      "model_module": "@jupyter-widgets/base",
      "model_module_version": "1.2.0",
      "model_name": "LayoutModel",
      "state": {
       "_model_module": "@jupyter-widgets/base",
       "_model_module_version": "1.2.0",
       "_model_name": "LayoutModel",
       "_view_count": null,
       "_view_module": "@jupyter-widgets/base",
       "_view_module_version": "1.2.0",
       "_view_name": "LayoutView",
       "align_content": null,
       "align_items": null,
       "align_self": null,
       "border": null,
       "bottom": null,
       "display": null,
       "flex": null,
       "flex_flow": null,
       "grid_area": null,
       "grid_auto_columns": null,
       "grid_auto_flow": null,
       "grid_auto_rows": null,
       "grid_column": null,
       "grid_gap": null,
       "grid_row": null,
       "grid_template_areas": null,
       "grid_template_columns": null,
       "grid_template_rows": null,
       "height": null,
       "justify_content": null,
       "justify_items": null,
       "left": null,
       "margin": null,
       "max_height": null,
       "max_width": null,
       "min_height": null,
       "min_width": null,
       "object_fit": null,
       "object_position": null,
       "order": null,
       "overflow": null,
       "overflow_x": null,
       "overflow_y": null,
       "padding": null,
       "right": null,
       "top": null,
       "visibility": null,
       "width": null
      }
     },
     "f2a7c234af0c4cff8f3a8c321c04d5e1": {
      "model_module": "@jupyter-widgets/base",
      "model_module_version": "1.2.0",
      "model_name": "LayoutModel",
      "state": {
       "_model_module": "@jupyter-widgets/base",
       "_model_module_version": "1.2.0",
       "_model_name": "LayoutModel",
       "_view_count": null,
       "_view_module": "@jupyter-widgets/base",
       "_view_module_version": "1.2.0",
       "_view_name": "LayoutView",
       "align_content": null,
       "align_items": null,
       "align_self": null,
       "border": null,
       "bottom": null,
       "display": null,
       "flex": null,
       "flex_flow": null,
       "grid_area": null,
       "grid_auto_columns": null,
       "grid_auto_flow": null,
       "grid_auto_rows": null,
       "grid_column": null,
       "grid_gap": null,
       "grid_row": null,
       "grid_template_areas": null,
       "grid_template_columns": null,
       "grid_template_rows": null,
       "height": null,
       "justify_content": null,
       "justify_items": null,
       "left": null,
       "margin": null,
       "max_height": null,
       "max_width": null,
       "min_height": null,
       "min_width": null,
       "object_fit": null,
       "object_position": null,
       "order": null,
       "overflow": null,
       "overflow_x": null,
       "overflow_y": null,
       "padding": null,
       "right": null,
       "top": null,
       "visibility": null,
       "width": null
      }
     },
     "f4dbdb8ef72e4cd39ced5f25d9befda1": {
      "model_module": "@jupyter-widgets/controls",
      "model_module_version": "1.5.0",
      "model_name": "HBoxModel",
      "state": {
       "_dom_classes": [],
       "_model_module": "@jupyter-widgets/controls",
       "_model_module_version": "1.5.0",
       "_model_name": "HBoxModel",
       "_view_count": null,
       "_view_module": "@jupyter-widgets/controls",
       "_view_module_version": "1.5.0",
       "_view_name": "HBoxView",
       "box_style": "",
       "children": [
        "IPY_MODEL_f82632a444a54fe9b15da6e61f14f3ae",
        "IPY_MODEL_edcc82988c61487a9c1d6b5e3754a87a",
        "IPY_MODEL_ce240cfcbecc4a03bdb8d01db3b4f4ef"
       ],
       "layout": "IPY_MODEL_8a5cc8e9ec6040e4ae60ff6adcbc3416"
      }
     },
     "f82632a444a54fe9b15da6e61f14f3ae": {
      "model_module": "@jupyter-widgets/controls",
      "model_module_version": "1.5.0",
      "model_name": "HTMLModel",
      "state": {
       "_dom_classes": [],
       "_model_module": "@jupyter-widgets/controls",
       "_model_module_version": "1.5.0",
       "_model_name": "HTMLModel",
       "_view_count": null,
       "_view_module": "@jupyter-widgets/controls",
       "_view_module_version": "1.5.0",
       "_view_name": "HTMLView",
       "description": "",
       "description_tooltip": null,
       "layout": "IPY_MODEL_513f96c0475e4dcfbf829fd3aa378144",
       "placeholder": "​",
       "style": "IPY_MODEL_2c7c9ddbf943488788cf272412c4b5d5",
       "value": "Downloading: 100%"
      }
     }
    },
    "version_major": 2,
    "version_minor": 0
   }
  }
 },
 "nbformat": 4,
 "nbformat_minor": 5
}
